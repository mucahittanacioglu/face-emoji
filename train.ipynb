{
 "cells": [
  {
   "cell_type": "code",
   "execution_count": 1,
   "metadata": {
    "id": "JPRjwbLuBmsB"
   },
   "outputs": [],
   "source": [
    "import numpy as np\n",
    "from keras import Sequential\n",
    "from keras.layers import Dense, Dropout, Flatten\n",
    "from keras.layers import Conv2D\n",
    "from keras.layers import MaxPooling2D\n",
    "from keras.layers import BatchNormalization\n",
    "from keras.optimizers import Adam\n",
    "from keras.preprocessing.image import ImageDataGenerator\n",
    "from keras.callbacks import Callback\n",
    "from tensorflow.keras import regularizers"
   ]
  },
  {
   "cell_type": "code",
   "execution_count": 2,
   "metadata": {
    "colab": {
     "base_uri": "https://localhost:8080/",
     "height": 50
    },
    "id": "gWDpBGPZBmsE",
    "outputId": "e4c242c0-9a41-467e-adb2-db9d757f3daa"
   },
   "outputs": [
    {
     "name": "stdout",
     "output_type": "stream",
     "text": [
      "Found 28709 images belonging to 7 classes.\n",
      "Found 7178 images belonging to 7 classes.\n"
     ]
    }
   ],
   "source": [
    "batch = 64\n",
    "train_dir = 'data/train'\n",
    "val_dir = 'data/test'\n",
    "train_datagen = ImageDataGenerator(rescale=1./255)\n",
    "val_datagen = ImageDataGenerator(rescale=1./255)\n",
    "train_generator = train_datagen.flow_from_directory(\n",
    "        train_dir,\n",
    "        target_size=(48,48),\n",
    "        batch_size= batch,\n",
    "        color_mode= \"grayscale\",\n",
    "        class_mode= 'categorical')\n",
    "validation_generator = val_datagen.flow_from_directory(\n",
    "        val_dir,\n",
    "        target_size = (48,48),\n",
    "        batch_size = batch,\n",
    "        color_mode = \"grayscale\",\n",
    "        class_mode = 'categorical')"
   ]
  },
  {
   "cell_type": "code",
   "execution_count": 3,
   "metadata": {
    "colab": {
     "base_uri": "https://localhost:8080/",
     "height": 133
    },
    "id": "Ra4ahEnbBmsH",
    "outputId": "b960f25a-ecc6-49db-c129-a14ac926e97b"
   },
   "outputs": [
    {
     "data": {
      "text/plain": [
       "{'angry': 0,\n",
       " 'disgust': 1,\n",
       " 'fear': 2,\n",
       " 'happy': 3,\n",
       " 'neutral': 4,\n",
       " 'sad': 5,\n",
       " 'surprise': 6}"
      ]
     },
     "execution_count": 3,
     "metadata": {
      "tags": []
     },
     "output_type": "execute_result"
    }
   ],
   "source": [
    "train_generator.class_indices"
   ]
  },
  {
   "cell_type": "code",
   "execution_count": 4,
   "metadata": {
    "colab": {
     "base_uri": "https://localhost:8080/",
     "height": 133
    },
    "id": "nIP7KQlrBmsK",
    "outputId": "9a6c6846-dc89-4f12-ae45-28bbc6b77edf"
   },
   "outputs": [
    {
     "data": {
      "text/plain": [
       "{'angry': 0,\n",
       " 'disgust': 1,\n",
       " 'fear': 2,\n",
       " 'happy': 3,\n",
       " 'neutral': 4,\n",
       " 'sad': 5,\n",
       " 'surprise': 6}"
      ]
     },
     "execution_count": 4,
     "metadata": {
      "tags": []
     },
     "output_type": "execute_result"
    }
   ],
   "source": [
    "validation_generator.class_indices"
   ]
  },
  {
   "cell_type": "code",
   "execution_count": 5,
   "metadata": {
    "id": "WZvkX1jbBmsM"
   },
   "outputs": [],
   "source": [
    "emoji_dict = validation_generator.class_indices\n",
    "emoji_dict = {v: k for k, v in emoji_dict.items()}"
   ]
  },
  {
   "cell_type": "code",
   "execution_count": 6,
   "metadata": {
    "id": "qky6VmF-BmsP"
   },
   "outputs": [],
   "source": [
    "model = Sequential()\n",
    "model.add(Conv2D(32, kernel_size=(3, 3), activation='relu', input_shape=(48,48,1),kernel_regularizer=regularizers.l1_l2(l1=1e-5, l2=1e-4)))\n",
    "model.add(Conv2D(64, kernel_size=(3, 3), activation='relu',kernel_regularizer=regularizers.l1_l2(l1=1e-5, l2=1e-4)))\n",
    "model.add(BatchNormalization())\n",
    "model.add(MaxPooling2D(pool_size=(2, 2)))\n",
    "model.add(Dropout(0.5))\n",
    "model.add(Conv2D(128, kernel_size=(3, 3), activation='relu',kernel_regularizer=regularizers.l1_l2(l1=1e-5, l2=1e-4)))\n",
    "model.add(BatchNormalization())\n",
    "model.add(MaxPooling2D(pool_size=(2, 2)))\n",
    "model.add(Conv2D(128, kernel_size=(3, 3), activation='relu',kernel_regularizer=regularizers.l1_l2(l1=1e-5, l2=1e-4)))\n",
    "model.add(BatchNormalization())\n",
    "model.add(MaxPooling2D(pool_size=(2, 2)))\n",
    "model.add(Dropout(0.5))\n",
    "model.add(Flatten())\n",
    "model.add(Dense(2048, activation='relu',kernel_regularizer=regularizers.l1_l2(l1=1e-5, l2=1e-4)))\n",
    "model.add(BatchNormalization())\n",
    "model.add(Dropout(0.5))\n",
    "model.add(Dense(1024, activation='relu',kernel_regularizer=regularizers.l1_l2(l1=1e-5, l2=1e-4)))\n",
    "model.add(BatchNormalization())\n",
    "model.add(Dropout(0.5))\n",
    "model.add(Dense(7, activation='softmax'))"
   ]
  },
  {
   "cell_type": "code",
   "execution_count": 7,
   "metadata": {
    "colab": {
     "base_uri": "https://localhost:8080/",
     "height": 810
    },
    "id": "iRyIlap8uLm_",
    "outputId": "dba421c6-d696-4c41-eecc-4037405a9d4b"
   },
   "outputs": [
    {
     "name": "stdout",
     "output_type": "stream",
     "text": [
      "Model: \"sequential\"\n",
      "_________________________________________________________________\n",
      "Layer (type)                 Output Shape              Param #   \n",
      "=================================================================\n",
      "conv2d (Conv2D)              (None, 46, 46, 32)        320       \n",
      "_________________________________________________________________\n",
      "conv2d_1 (Conv2D)            (None, 44, 44, 64)        18496     \n",
      "_________________________________________________________________\n",
      "batch_normalization (BatchNo (None, 44, 44, 64)        256       \n",
      "_________________________________________________________________\n",
      "max_pooling2d (MaxPooling2D) (None, 22, 22, 64)        0         \n",
      "_________________________________________________________________\n",
      "dropout (Dropout)            (None, 22, 22, 64)        0         \n",
      "_________________________________________________________________\n",
      "conv2d_2 (Conv2D)            (None, 20, 20, 128)       73856     \n",
      "_________________________________________________________________\n",
      "batch_normalization_1 (Batch (None, 20, 20, 128)       512       \n",
      "_________________________________________________________________\n",
      "max_pooling2d_1 (MaxPooling2 (None, 10, 10, 128)       0         \n",
      "_________________________________________________________________\n",
      "conv2d_3 (Conv2D)            (None, 8, 8, 128)         147584    \n",
      "_________________________________________________________________\n",
      "batch_normalization_2 (Batch (None, 8, 8, 128)         512       \n",
      "_________________________________________________________________\n",
      "max_pooling2d_2 (MaxPooling2 (None, 4, 4, 128)         0         \n",
      "_________________________________________________________________\n",
      "dropout_1 (Dropout)          (None, 4, 4, 128)         0         \n",
      "_________________________________________________________________\n",
      "flatten (Flatten)            (None, 2048)              0         \n",
      "_________________________________________________________________\n",
      "dense (Dense)                (None, 2048)              4196352   \n",
      "_________________________________________________________________\n",
      "batch_normalization_3 (Batch (None, 2048)              8192      \n",
      "_________________________________________________________________\n",
      "dropout_2 (Dropout)          (None, 2048)              0         \n",
      "_________________________________________________________________\n",
      "dense_1 (Dense)              (None, 1024)              2098176   \n",
      "_________________________________________________________________\n",
      "batch_normalization_4 (Batch (None, 1024)              4096      \n",
      "_________________________________________________________________\n",
      "dropout_3 (Dropout)          (None, 1024)              0         \n",
      "_________________________________________________________________\n",
      "dense_2 (Dense)              (None, 7)                 7175      \n",
      "=================================================================\n",
      "Total params: 6,555,527\n",
      "Trainable params: 6,548,743\n",
      "Non-trainable params: 6,784\n",
      "_________________________________________________________________\n"
     ]
    }
   ],
   "source": [
    "model.summary()"
   ]
  },
  {
   "cell_type": "code",
   "execution_count": 8,
   "metadata": {
    "id": "bOi0yAIohgtA"
   },
   "outputs": [],
   "source": [
    "class myCallback(Callback):\n",
    "    def on_epoch_end(self, epoch, logs={}):\n",
    "        if(logs.get('accuracy')>0.90):\n",
    "            print(\"\\nReached 90% accuracy so cancelling training!\")\n",
    "            self.model.stop_training = True\n",
    "\n",
    "callback=myCallback()"
   ]
  },
  {
   "cell_type": "code",
   "execution_count": 9,
   "metadata": {
    "id": "diFjXbZuBmsR",
    "scrolled": false
   },
   "outputs": [],
   "source": [
    "model.compile(loss='categorical_crossentropy',optimizer=Adam(lr=0.0001, decay=1e-6) ,metrics=['accuracy'])\n"
   ]
  },
  {
   "cell_type": "code",
   "execution_count": 10,
   "metadata": {
    "colab": {
     "base_uri": "https://localhost:8080/",
     "height": 1000
    },
    "id": "smKz5KsXBmsT",
    "outputId": "660213b7-ee3a-45af-c492-8035eaf03323"
   },
   "outputs": [
    {
     "name": "stdout",
     "output_type": "stream",
     "text": [
      "Epoch 1/1000\n",
      "448/448 [==============================] - 11s 26ms/step - loss: 4.4860 - accuracy: 0.2012 - val_loss: 3.8211 - val_accuracy: 0.2803\n",
      "Epoch 2/1000\n",
      "448/448 [==============================] - 11s 25ms/step - loss: 4.0615 - accuracy: 0.2632 - val_loss: 3.3652 - val_accuracy: 0.3744\n",
      "Epoch 3/1000\n",
      "448/448 [==============================] - 11s 25ms/step - loss: 3.8576 - accuracy: 0.2984 - val_loss: 3.3208 - val_accuracy: 0.3965\n",
      "Epoch 4/1000\n",
      "448/448 [==============================] - 11s 25ms/step - loss: 3.6632 - accuracy: 0.3293 - val_loss: 3.2253 - val_accuracy: 0.4176\n",
      "Epoch 5/1000\n",
      "448/448 [==============================] - 11s 25ms/step - loss: 3.5359 - accuracy: 0.3506 - val_loss: 3.1600 - val_accuracy: 0.4329\n",
      "Epoch 6/1000\n",
      "448/448 [==============================] - 11s 25ms/step - loss: 3.4246 - accuracy: 0.3732 - val_loss: 3.0889 - val_accuracy: 0.4501\n",
      "Epoch 7/1000\n",
      "448/448 [==============================] - 11s 25ms/step - loss: 3.3352 - accuracy: 0.3858 - val_loss: 3.0803 - val_accuracy: 0.4667\n",
      "Epoch 8/1000\n",
      "448/448 [==============================] - 11s 25ms/step - loss: 3.2527 - accuracy: 0.4046 - val_loss: 3.0069 - val_accuracy: 0.4768\n",
      "Epoch 9/1000\n",
      "448/448 [==============================] - 11s 25ms/step - loss: 3.1707 - accuracy: 0.4253 - val_loss: 2.9803 - val_accuracy: 0.4845\n",
      "Epoch 10/1000\n",
      "448/448 [==============================] - 11s 25ms/step - loss: 3.0973 - accuracy: 0.4423 - val_loss: 2.9678 - val_accuracy: 0.4901\n",
      "Epoch 11/1000\n",
      "448/448 [==============================] - 11s 25ms/step - loss: 3.0415 - accuracy: 0.4568 - val_loss: 2.8990 - val_accuracy: 0.5035\n",
      "Epoch 12/1000\n",
      "448/448 [==============================] - 11s 25ms/step - loss: 2.9806 - accuracy: 0.4719 - val_loss: 2.9330 - val_accuracy: 0.4895\n",
      "Epoch 13/1000\n",
      "448/448 [==============================] - 11s 25ms/step - loss: 2.9302 - accuracy: 0.4825 - val_loss: 2.7927 - val_accuracy: 0.5233\n",
      "Epoch 14/1000\n",
      "448/448 [==============================] - 11s 25ms/step - loss: 2.8661 - accuracy: 0.4962 - val_loss: 2.7934 - val_accuracy: 0.5215\n",
      "Epoch 15/1000\n",
      "448/448 [==============================] - 11s 25ms/step - loss: 2.8160 - accuracy: 0.5058 - val_loss: 2.7427 - val_accuracy: 0.5282\n",
      "Epoch 16/1000\n",
      "448/448 [==============================] - 11s 25ms/step - loss: 2.7696 - accuracy: 0.5145 - val_loss: 2.7174 - val_accuracy: 0.5368\n",
      "Epoch 17/1000\n",
      "448/448 [==============================] - 11s 25ms/step - loss: 2.7177 - accuracy: 0.5218 - val_loss: 2.6504 - val_accuracy: 0.5477\n",
      "Epoch 18/1000\n",
      "448/448 [==============================] - 11s 25ms/step - loss: 2.6689 - accuracy: 0.5304 - val_loss: 2.5918 - val_accuracy: 0.5518\n",
      "Epoch 19/1000\n",
      "448/448 [==============================] - 11s 25ms/step - loss: 2.6175 - accuracy: 0.5387 - val_loss: 2.5669 - val_accuracy: 0.5547\n",
      "Epoch 20/1000\n",
      "448/448 [==============================] - 11s 25ms/step - loss: 2.5736 - accuracy: 0.5475 - val_loss: 2.5582 - val_accuracy: 0.5479\n",
      "Epoch 21/1000\n",
      "448/448 [==============================] - 11s 25ms/step - loss: 2.5265 - accuracy: 0.5523 - val_loss: 2.4763 - val_accuracy: 0.5621\n",
      "Epoch 22/1000\n",
      "448/448 [==============================] - 11s 25ms/step - loss: 2.4684 - accuracy: 0.5649 - val_loss: 2.4423 - val_accuracy: 0.5721\n",
      "Epoch 23/1000\n",
      "448/448 [==============================] - 11s 25ms/step - loss: 2.4226 - accuracy: 0.5700 - val_loss: 2.4251 - val_accuracy: 0.5611\n",
      "Epoch 24/1000\n",
      "448/448 [==============================] - 11s 25ms/step - loss: 2.3771 - accuracy: 0.5774 - val_loss: 2.3389 - val_accuracy: 0.5854\n",
      "Epoch 25/1000\n",
      "448/448 [==============================] - 11s 25ms/step - loss: 2.3354 - accuracy: 0.5788 - val_loss: 2.3179 - val_accuracy: 0.5836\n",
      "Epoch 26/1000\n",
      "448/448 [==============================] - 11s 25ms/step - loss: 2.2860 - accuracy: 0.5900 - val_loss: 2.3143 - val_accuracy: 0.5763\n",
      "Epoch 27/1000\n",
      "448/448 [==============================] - 11s 25ms/step - loss: 2.2427 - accuracy: 0.5944 - val_loss: 2.2382 - val_accuracy: 0.5943\n",
      "Epoch 28/1000\n",
      "448/448 [==============================] - 11s 25ms/step - loss: 2.1930 - accuracy: 0.6035 - val_loss: 2.2130 - val_accuracy: 0.5991\n",
      "Epoch 29/1000\n",
      "448/448 [==============================] - 11s 25ms/step - loss: 2.1635 - accuracy: 0.6068 - val_loss: 2.1925 - val_accuracy: 0.5910\n",
      "Epoch 30/1000\n",
      "448/448 [==============================] - 11s 25ms/step - loss: 2.1272 - accuracy: 0.6119 - val_loss: 2.1397 - val_accuracy: 0.6053\n",
      "Epoch 31/1000\n",
      "448/448 [==============================] - 11s 25ms/step - loss: 2.0857 - accuracy: 0.6235 - val_loss: 2.1459 - val_accuracy: 0.5972\n",
      "Epoch 32/1000\n",
      "448/448 [==============================] - 11s 25ms/step - loss: 2.0491 - accuracy: 0.6259 - val_loss: 2.0942 - val_accuracy: 0.6059\n",
      "Epoch 33/1000\n",
      "448/448 [==============================] - 11s 25ms/step - loss: 2.0153 - accuracy: 0.6331 - val_loss: 2.0697 - val_accuracy: 0.6091\n",
      "Epoch 34/1000\n",
      "448/448 [==============================] - 11s 25ms/step - loss: 1.9779 - accuracy: 0.6401 - val_loss: 2.0642 - val_accuracy: 0.6055\n",
      "Epoch 35/1000\n",
      "448/448 [==============================] - 11s 25ms/step - loss: 1.9625 - accuracy: 0.6397 - val_loss: 2.0242 - val_accuracy: 0.6152\n",
      "Epoch 36/1000\n",
      "448/448 [==============================] - 11s 25ms/step - loss: 1.9142 - accuracy: 0.6536 - val_loss: 2.0195 - val_accuracy: 0.6120\n",
      "Epoch 37/1000\n",
      "448/448 [==============================] - 11s 25ms/step - loss: 1.8924 - accuracy: 0.6549 - val_loss: 1.9919 - val_accuracy: 0.6200\n",
      "Epoch 38/1000\n",
      "448/448 [==============================] - 11s 25ms/step - loss: 1.8651 - accuracy: 0.6631 - val_loss: 1.9685 - val_accuracy: 0.6219\n",
      "Epoch 39/1000\n",
      "448/448 [==============================] - 11s 25ms/step - loss: 1.8369 - accuracy: 0.6699 - val_loss: 1.9510 - val_accuracy: 0.6292\n",
      "Epoch 40/1000\n",
      "448/448 [==============================] - 11s 25ms/step - loss: 1.8075 - accuracy: 0.6754 - val_loss: 1.9607 - val_accuracy: 0.6198\n",
      "Epoch 41/1000\n",
      "448/448 [==============================] - 11s 25ms/step - loss: 1.7859 - accuracy: 0.6790 - val_loss: 1.9472 - val_accuracy: 0.6242\n",
      "Epoch 42/1000\n",
      "448/448 [==============================] - 12s 26ms/step - loss: 1.7567 - accuracy: 0.6853 - val_loss: 1.9183 - val_accuracy: 0.6313\n",
      "Epoch 43/1000\n",
      "448/448 [==============================] - 11s 25ms/step - loss: 1.7464 - accuracy: 0.6908 - val_loss: 1.9180 - val_accuracy: 0.6296\n",
      "Epoch 44/1000\n",
      "448/448 [==============================] - 11s 25ms/step - loss: 1.7147 - accuracy: 0.6976 - val_loss: 1.9226 - val_accuracy: 0.6203\n",
      "Epoch 45/1000\n",
      "448/448 [==============================] - 11s 25ms/step - loss: 1.6998 - accuracy: 0.7022 - val_loss: 1.9086 - val_accuracy: 0.6243\n",
      "Epoch 46/1000\n",
      "448/448 [==============================] - 11s 25ms/step - loss: 1.6729 - accuracy: 0.7065 - val_loss: 1.9065 - val_accuracy: 0.6324\n",
      "Epoch 47/1000\n",
      "448/448 [==============================] - 11s 25ms/step - loss: 1.6590 - accuracy: 0.7118 - val_loss: 1.9042 - val_accuracy: 0.6264\n",
      "Epoch 48/1000\n",
      "448/448 [==============================] - 11s 25ms/step - loss: 1.6407 - accuracy: 0.7189 - val_loss: 1.8886 - val_accuracy: 0.6318\n",
      "Epoch 49/1000\n",
      "448/448 [==============================] - 11s 25ms/step - loss: 1.6227 - accuracy: 0.7182 - val_loss: 1.8871 - val_accuracy: 0.6310\n",
      "Epoch 50/1000\n",
      "448/448 [==============================] - 11s 25ms/step - loss: 1.6065 - accuracy: 0.7251 - val_loss: 1.8872 - val_accuracy: 0.6254\n",
      "Epoch 51/1000\n",
      "448/448 [==============================] - 11s 25ms/step - loss: 1.5959 - accuracy: 0.7269 - val_loss: 1.8828 - val_accuracy: 0.6314\n",
      "Epoch 52/1000\n",
      "448/448 [==============================] - 11s 25ms/step - loss: 1.5749 - accuracy: 0.7350 - val_loss: 1.8793 - val_accuracy: 0.6384\n",
      "Epoch 53/1000\n",
      "448/448 [==============================] - 11s 25ms/step - loss: 1.5655 - accuracy: 0.7381 - val_loss: 1.8730 - val_accuracy: 0.6369\n",
      "Epoch 54/1000\n",
      "448/448 [==============================] - 11s 25ms/step - loss: 1.5521 - accuracy: 0.7427 - val_loss: 1.8556 - val_accuracy: 0.6395\n",
      "Epoch 55/1000\n",
      "448/448 [==============================] - 11s 25ms/step - loss: 1.5287 - accuracy: 0.7482 - val_loss: 1.8601 - val_accuracy: 0.6342\n",
      "Epoch 56/1000\n",
      "448/448 [==============================] - 11s 25ms/step - loss: 1.5203 - accuracy: 0.7509 - val_loss: 1.8724 - val_accuracy: 0.6254\n",
      "Epoch 57/1000\n",
      "448/448 [==============================] - 11s 25ms/step - loss: 1.5155 - accuracy: 0.7516 - val_loss: 1.8649 - val_accuracy: 0.6394\n",
      "Epoch 58/1000\n",
      "448/448 [==============================] - 11s 25ms/step - loss: 1.4953 - accuracy: 0.7602 - val_loss: 1.8598 - val_accuracy: 0.6357\n",
      "Epoch 59/1000\n",
      "448/448 [==============================] - 11s 25ms/step - loss: 1.4823 - accuracy: 0.7645 - val_loss: 1.8722 - val_accuracy: 0.6314\n",
      "Epoch 60/1000\n",
      "448/448 [==============================] - 11s 25ms/step - loss: 1.4736 - accuracy: 0.7651 - val_loss: 1.8604 - val_accuracy: 0.6417\n",
      "Epoch 61/1000\n",
      "448/448 [==============================] - 11s 25ms/step - loss: 1.4588 - accuracy: 0.7719 - val_loss: 1.8513 - val_accuracy: 0.6419\n",
      "Epoch 62/1000\n",
      "448/448 [==============================] - 11s 25ms/step - loss: 1.4566 - accuracy: 0.7701 - val_loss: 1.8748 - val_accuracy: 0.6364\n",
      "Epoch 63/1000\n",
      "448/448 [==============================] - 11s 25ms/step - loss: 1.4511 - accuracy: 0.7709 - val_loss: 1.8631 - val_accuracy: 0.6346\n",
      "Epoch 64/1000\n",
      "448/448 [==============================] - 11s 25ms/step - loss: 1.4247 - accuracy: 0.7829 - val_loss: 1.8640 - val_accuracy: 0.6352\n",
      "Epoch 65/1000\n",
      "448/448 [==============================] - 11s 25ms/step - loss: 1.4206 - accuracy: 0.7824 - val_loss: 1.8599 - val_accuracy: 0.6487\n",
      "Epoch 66/1000\n",
      "448/448 [==============================] - 11s 25ms/step - loss: 1.4111 - accuracy: 0.7856 - val_loss: 1.8604 - val_accuracy: 0.6416\n",
      "Epoch 67/1000\n",
      "448/448 [==============================] - 11s 25ms/step - loss: 1.3923 - accuracy: 0.7958 - val_loss: 1.8601 - val_accuracy: 0.6444\n",
      "Epoch 68/1000\n",
      "448/448 [==============================] - 11s 25ms/step - loss: 1.3920 - accuracy: 0.7948 - val_loss: 1.8540 - val_accuracy: 0.6390\n",
      "Epoch 69/1000\n",
      "448/448 [==============================] - 11s 25ms/step - loss: 1.3859 - accuracy: 0.7961 - val_loss: 1.8715 - val_accuracy: 0.6424\n",
      "Epoch 70/1000\n",
      "448/448 [==============================] - 11s 26ms/step - loss: 1.3756 - accuracy: 0.7997 - val_loss: 1.8614 - val_accuracy: 0.6419\n",
      "Epoch 71/1000\n",
      "448/448 [==============================] - 11s 25ms/step - loss: 1.3678 - accuracy: 0.8015 - val_loss: 1.8692 - val_accuracy: 0.6402\n",
      "Epoch 72/1000\n",
      "448/448 [==============================] - 11s 25ms/step - loss: 1.3616 - accuracy: 0.8070 - val_loss: 1.8964 - val_accuracy: 0.6381\n",
      "Epoch 73/1000\n",
      "448/448 [==============================] - 11s 25ms/step - loss: 1.3551 - accuracy: 0.8068 - val_loss: 1.8780 - val_accuracy: 0.6415\n",
      "Epoch 74/1000\n",
      "448/448 [==============================] - 11s 25ms/step - loss: 1.3425 - accuracy: 0.8131 - val_loss: 1.8791 - val_accuracy: 0.6456\n",
      "Epoch 75/1000\n",
      "448/448 [==============================] - 11s 25ms/step - loss: 1.3373 - accuracy: 0.8114 - val_loss: 1.8867 - val_accuracy: 0.6491\n",
      "Epoch 76/1000\n",
      "448/448 [==============================] - 11s 25ms/step - loss: 1.3350 - accuracy: 0.8139 - val_loss: 1.8938 - val_accuracy: 0.6426\n",
      "Epoch 77/1000\n",
      "448/448 [==============================] - 11s 25ms/step - loss: 1.3274 - accuracy: 0.8198 - val_loss: 1.8807 - val_accuracy: 0.6537\n",
      "Epoch 78/1000\n",
      "448/448 [==============================] - 11s 25ms/step - loss: 1.3174 - accuracy: 0.8220 - val_loss: 1.8775 - val_accuracy: 0.6415\n",
      "Epoch 79/1000\n",
      "448/448 [==============================] - 11s 25ms/step - loss: 1.3167 - accuracy: 0.8197 - val_loss: 1.8810 - val_accuracy: 0.6493\n",
      "Epoch 80/1000\n",
      "448/448 [==============================] - 11s 25ms/step - loss: 1.3146 - accuracy: 0.8220 - val_loss: 1.8926 - val_accuracy: 0.6430\n",
      "Epoch 81/1000\n",
      "448/448 [==============================] - 11s 25ms/step - loss: 1.3122 - accuracy: 0.8235 - val_loss: 1.8966 - val_accuracy: 0.6463\n",
      "Epoch 82/1000\n",
      "448/448 [==============================] - 11s 25ms/step - loss: 1.3023 - accuracy: 0.8287 - val_loss: 1.8815 - val_accuracy: 0.6480\n",
      "Epoch 83/1000\n",
      "448/448 [==============================] - 11s 25ms/step - loss: 1.2988 - accuracy: 0.8271 - val_loss: 1.9038 - val_accuracy: 0.6482\n",
      "Epoch 84/1000\n",
      "448/448 [==============================] - 11s 25ms/step - loss: 1.2965 - accuracy: 0.8310 - val_loss: 1.9134 - val_accuracy: 0.6465\n",
      "Epoch 85/1000\n",
      "448/448 [==============================] - 11s 25ms/step - loss: 1.2828 - accuracy: 0.8328 - val_loss: 1.8962 - val_accuracy: 0.6447\n",
      "Epoch 86/1000\n",
      "448/448 [==============================] - 11s 25ms/step - loss: 1.2845 - accuracy: 0.8340 - val_loss: 1.9170 - val_accuracy: 0.6449\n",
      "Epoch 87/1000\n",
      "448/448 [==============================] - 11s 25ms/step - loss: 1.2796 - accuracy: 0.8376 - val_loss: 1.9119 - val_accuracy: 0.6434\n",
      "Epoch 88/1000\n",
      "448/448 [==============================] - 11s 25ms/step - loss: 1.2782 - accuracy: 0.8363 - val_loss: 1.9109 - val_accuracy: 0.6518\n",
      "Epoch 89/1000\n",
      "448/448 [==============================] - 11s 25ms/step - loss: 1.2729 - accuracy: 0.8409 - val_loss: 1.9230 - val_accuracy: 0.6505\n",
      "Epoch 90/1000\n",
      "448/448 [==============================] - 11s 25ms/step - loss: 1.2653 - accuracy: 0.8408 - val_loss: 1.9132 - val_accuracy: 0.6508\n",
      "Epoch 91/1000\n",
      "448/448 [==============================] - 11s 25ms/step - loss: 1.2556 - accuracy: 0.8463 - val_loss: 1.9087 - val_accuracy: 0.6466\n",
      "Epoch 92/1000\n",
      "448/448 [==============================] - 11s 25ms/step - loss: 1.2634 - accuracy: 0.8427 - val_loss: 1.9197 - val_accuracy: 0.6482\n",
      "Epoch 93/1000\n",
      "448/448 [==============================] - 11s 25ms/step - loss: 1.2579 - accuracy: 0.8420 - val_loss: 1.9270 - val_accuracy: 0.6549\n",
      "Epoch 94/1000\n",
      "448/448 [==============================] - 11s 25ms/step - loss: 1.2559 - accuracy: 0.8467 - val_loss: 1.9145 - val_accuracy: 0.6452\n",
      "Epoch 95/1000\n",
      "448/448 [==============================] - 11s 25ms/step - loss: 1.2586 - accuracy: 0.8448 - val_loss: 1.9222 - val_accuracy: 0.6489\n",
      "Epoch 96/1000\n",
      "448/448 [==============================] - 11s 25ms/step - loss: 1.2443 - accuracy: 0.8493 - val_loss: 1.9218 - val_accuracy: 0.6429\n",
      "Epoch 97/1000\n",
      "448/448 [==============================] - 11s 26ms/step - loss: 1.2365 - accuracy: 0.8523 - val_loss: 1.9346 - val_accuracy: 0.6483\n",
      "Epoch 98/1000\n",
      "448/448 [==============================] - 11s 25ms/step - loss: 1.2380 - accuracy: 0.8525 - val_loss: 1.9395 - val_accuracy: 0.6434\n",
      "Epoch 99/1000\n",
      "448/448 [==============================] - 11s 24ms/step - loss: 1.2349 - accuracy: 0.8508 - val_loss: 1.9443 - val_accuracy: 0.6522\n",
      "Epoch 100/1000\n",
      "448/448 [==============================] - 11s 25ms/step - loss: 1.2367 - accuracy: 0.8514 - val_loss: 1.9351 - val_accuracy: 0.6500\n",
      "Epoch 101/1000\n",
      "448/448 [==============================] - 11s 25ms/step - loss: 1.2244 - accuracy: 0.8568 - val_loss: 1.9422 - val_accuracy: 0.6515\n",
      "Epoch 102/1000\n",
      "448/448 [==============================] - 11s 25ms/step - loss: 1.2300 - accuracy: 0.8576 - val_loss: 1.9433 - val_accuracy: 0.6454\n",
      "Epoch 103/1000\n",
      "448/448 [==============================] - 11s 25ms/step - loss: 1.2320 - accuracy: 0.8564 - val_loss: 1.9370 - val_accuracy: 0.6456\n",
      "Epoch 104/1000\n",
      "448/448 [==============================] - 11s 25ms/step - loss: 1.2252 - accuracy: 0.8572 - val_loss: 1.9531 - val_accuracy: 0.6500\n",
      "Epoch 105/1000\n",
      "448/448 [==============================] - 11s 25ms/step - loss: 1.2131 - accuracy: 0.8628 - val_loss: 1.9365 - val_accuracy: 0.6461\n",
      "Epoch 106/1000\n",
      "448/448 [==============================] - 11s 25ms/step - loss: 1.2171 - accuracy: 0.8608 - val_loss: 1.9375 - val_accuracy: 0.6514\n",
      "Epoch 107/1000\n",
      "448/448 [==============================] - 11s 25ms/step - loss: 1.2203 - accuracy: 0.8586 - val_loss: 1.9630 - val_accuracy: 0.6532\n",
      "Epoch 108/1000\n",
      "448/448 [==============================] - 11s 25ms/step - loss: 1.2089 - accuracy: 0.8624 - val_loss: 1.9533 - val_accuracy: 0.6549\n",
      "Epoch 109/1000\n",
      "448/448 [==============================] - 11s 25ms/step - loss: 1.2176 - accuracy: 0.8592 - val_loss: 1.9589 - val_accuracy: 0.6490\n",
      "Epoch 110/1000\n",
      "448/448 [==============================] - 11s 25ms/step - loss: 1.2033 - accuracy: 0.8656 - val_loss: 1.9494 - val_accuracy: 0.6529\n",
      "Epoch 111/1000\n",
      "448/448 [==============================] - 11s 25ms/step - loss: 1.2076 - accuracy: 0.8625 - val_loss: 1.9632 - val_accuracy: 0.6470\n",
      "Epoch 112/1000\n",
      "448/448 [==============================] - 11s 25ms/step - loss: 1.1947 - accuracy: 0.8703 - val_loss: 1.9719 - val_accuracy: 0.6491\n",
      "Epoch 113/1000\n",
      "448/448 [==============================] - 11s 25ms/step - loss: 1.2073 - accuracy: 0.8648 - val_loss: 1.9776 - val_accuracy: 0.6493\n",
      "Epoch 114/1000\n",
      "448/448 [==============================] - 11s 25ms/step - loss: 1.1984 - accuracy: 0.8673 - val_loss: 1.9851 - val_accuracy: 0.6568\n",
      "Epoch 115/1000\n",
      "448/448 [==============================] - 11s 25ms/step - loss: 1.1948 - accuracy: 0.8711 - val_loss: 1.9808 - val_accuracy: 0.6505\n",
      "Epoch 116/1000\n",
      "448/448 [==============================] - 11s 25ms/step - loss: 1.1987 - accuracy: 0.8675 - val_loss: 1.9730 - val_accuracy: 0.6533\n",
      "Epoch 117/1000\n",
      "448/448 [==============================] - 11s 25ms/step - loss: 1.1981 - accuracy: 0.8708 - val_loss: 1.9878 - val_accuracy: 0.6489\n",
      "Epoch 118/1000\n",
      "448/448 [==============================] - 11s 25ms/step - loss: 1.1888 - accuracy: 0.8710 - val_loss: 1.9658 - val_accuracy: 0.6505\n",
      "Epoch 119/1000\n",
      "448/448 [==============================] - 12s 26ms/step - loss: 1.1926 - accuracy: 0.8722 - val_loss: 1.9857 - val_accuracy: 0.6396\n",
      "Epoch 120/1000\n",
      "448/448 [==============================] - 12s 26ms/step - loss: 1.1918 - accuracy: 0.8727 - val_loss: 1.9868 - val_accuracy: 0.6515\n",
      "Epoch 121/1000\n",
      "448/448 [==============================] - 12s 26ms/step - loss: 1.1888 - accuracy: 0.8726 - val_loss: 1.9780 - val_accuracy: 0.6532\n",
      "Epoch 122/1000\n",
      "448/448 [==============================] - 12s 26ms/step - loss: 1.1841 - accuracy: 0.8755 - val_loss: 1.9944 - val_accuracy: 0.6564\n",
      "Epoch 123/1000\n",
      "448/448 [==============================] - 12s 26ms/step - loss: 1.1937 - accuracy: 0.8706 - val_loss: 1.9808 - val_accuracy: 0.6508\n",
      "Epoch 124/1000\n",
      "448/448 [==============================] - 11s 26ms/step - loss: 1.1812 - accuracy: 0.8767 - val_loss: 2.0008 - val_accuracy: 0.6484\n",
      "Epoch 125/1000\n",
      "448/448 [==============================] - 12s 26ms/step - loss: 1.1819 - accuracy: 0.8737 - val_loss: 1.9846 - val_accuracy: 0.6503\n",
      "Epoch 126/1000\n",
      "448/448 [==============================] - 12s 26ms/step - loss: 1.1763 - accuracy: 0.8778 - val_loss: 1.9977 - val_accuracy: 0.6486\n",
      "Epoch 127/1000\n",
      "448/448 [==============================] - 12s 26ms/step - loss: 1.1753 - accuracy: 0.8780 - val_loss: 1.9810 - val_accuracy: 0.6515\n",
      "Epoch 128/1000\n",
      "448/448 [==============================] - 12s 26ms/step - loss: 1.1732 - accuracy: 0.8798 - val_loss: 2.0176 - val_accuracy: 0.6489\n",
      "Epoch 129/1000\n",
      "448/448 [==============================] - 12s 26ms/step - loss: 1.1739 - accuracy: 0.8782 - val_loss: 1.9873 - val_accuracy: 0.6459\n",
      "Epoch 130/1000\n",
      "448/448 [==============================] - 12s 26ms/step - loss: 1.1684 - accuracy: 0.8826 - val_loss: 1.9972 - val_accuracy: 0.6532\n",
      "Epoch 131/1000\n",
      "448/448 [==============================] - 12s 26ms/step - loss: 1.1847 - accuracy: 0.8759 - val_loss: 1.9924 - val_accuracy: 0.6550\n",
      "Epoch 132/1000\n",
      "448/448 [==============================] - 12s 26ms/step - loss: 1.1722 - accuracy: 0.8786 - val_loss: 2.0135 - val_accuracy: 0.6523\n",
      "Epoch 133/1000\n",
      "448/448 [==============================] - 12s 26ms/step - loss: 1.1749 - accuracy: 0.8787 - val_loss: 1.9885 - val_accuracy: 0.6476\n",
      "Epoch 134/1000\n",
      "448/448 [==============================] - 12s 26ms/step - loss: 1.1666 - accuracy: 0.8807 - val_loss: 2.0063 - val_accuracy: 0.6553\n",
      "Epoch 135/1000\n",
      "448/448 [==============================] - 11s 26ms/step - loss: 1.1678 - accuracy: 0.8812 - val_loss: 2.0232 - val_accuracy: 0.6482\n",
      "Epoch 136/1000\n",
      "448/448 [==============================] - 12s 26ms/step - loss: 1.1579 - accuracy: 0.8861 - val_loss: 2.0132 - val_accuracy: 0.6514\n",
      "Epoch 137/1000\n",
      "448/448 [==============================] - 12s 26ms/step - loss: 1.1654 - accuracy: 0.8813 - val_loss: 1.9895 - val_accuracy: 0.6500\n",
      "Epoch 138/1000\n",
      "448/448 [==============================] - 11s 26ms/step - loss: 1.1601 - accuracy: 0.8850 - val_loss: 2.0263 - val_accuracy: 0.6515\n",
      "Epoch 139/1000\n",
      "448/448 [==============================] - 11s 26ms/step - loss: 1.1597 - accuracy: 0.8844 - val_loss: 2.0021 - val_accuracy: 0.6480\n",
      "Epoch 140/1000\n",
      "448/448 [==============================] - 11s 26ms/step - loss: 1.1626 - accuracy: 0.8829 - val_loss: 2.0105 - val_accuracy: 0.6444\n",
      "Epoch 141/1000\n",
      "448/448 [==============================] - 11s 26ms/step - loss: 1.1521 - accuracy: 0.8878 - val_loss: 2.0087 - val_accuracy: 0.6469\n",
      "Epoch 142/1000\n",
      "448/448 [==============================] - 11s 26ms/step - loss: 1.1540 - accuracy: 0.8885 - val_loss: 2.0367 - val_accuracy: 0.6487\n",
      "Epoch 143/1000\n",
      "448/448 [==============================] - 11s 25ms/step - loss: 1.1408 - accuracy: 0.8900 - val_loss: 2.0178 - val_accuracy: 0.6557\n",
      "Epoch 144/1000\n",
      "448/448 [==============================] - 11s 26ms/step - loss: 1.1555 - accuracy: 0.8875 - val_loss: 2.0303 - val_accuracy: 0.6465\n",
      "Epoch 145/1000\n",
      "448/448 [==============================] - 11s 26ms/step - loss: 1.1608 - accuracy: 0.8822 - val_loss: 2.0200 - val_accuracy: 0.6497\n",
      "Epoch 146/1000\n",
      "448/448 [==============================] - 11s 25ms/step - loss: 1.1556 - accuracy: 0.8868 - val_loss: 2.0348 - val_accuracy: 0.6518\n",
      "Epoch 147/1000\n",
      "448/448 [==============================] - 12s 26ms/step - loss: 1.1439 - accuracy: 0.8909 - val_loss: 2.0530 - val_accuracy: 0.6551\n",
      "Epoch 148/1000\n",
      "448/448 [==============================] - 12s 26ms/step - loss: 1.1527 - accuracy: 0.8857 - val_loss: 2.0267 - val_accuracy: 0.6568\n",
      "Epoch 149/1000\n",
      "448/448 [==============================] - 11s 26ms/step - loss: 1.1428 - accuracy: 0.8908 - val_loss: 2.0134 - val_accuracy: 0.6496\n",
      "Epoch 150/1000\n",
      "448/448 [==============================] - 11s 26ms/step - loss: 1.1406 - accuracy: 0.8925 - val_loss: 2.0489 - val_accuracy: 0.6537\n",
      "Epoch 151/1000\n",
      "448/448 [==============================] - 12s 26ms/step - loss: 1.1479 - accuracy: 0.8888 - val_loss: 2.0235 - val_accuracy: 0.6525\n",
      "Epoch 152/1000\n",
      "448/448 [==============================] - 12s 26ms/step - loss: 1.1449 - accuracy: 0.8900 - val_loss: 2.0216 - val_accuracy: 0.6542\n",
      "Epoch 153/1000\n",
      "448/448 [==============================] - 11s 26ms/step - loss: 1.1430 - accuracy: 0.8906 - val_loss: 2.0553 - val_accuracy: 0.6526\n",
      "Epoch 154/1000\n",
      "448/448 [==============================] - 11s 25ms/step - loss: 1.1527 - accuracy: 0.8883 - val_loss: 2.0262 - val_accuracy: 0.6544\n",
      "Epoch 155/1000\n",
      "448/448 [==============================] - 11s 26ms/step - loss: 1.1406 - accuracy: 0.8910 - val_loss: 2.0255 - val_accuracy: 0.6536\n",
      "Epoch 156/1000\n",
      "448/448 [==============================] - 11s 25ms/step - loss: 1.1366 - accuracy: 0.8923 - val_loss: 2.0404 - val_accuracy: 0.6526\n",
      "Epoch 157/1000\n",
      "448/448 [==============================] - 11s 25ms/step - loss: 1.1429 - accuracy: 0.8910 - val_loss: 2.0413 - val_accuracy: 0.6523\n",
      "Epoch 158/1000\n",
      "448/448 [==============================] - 11s 26ms/step - loss: 1.1334 - accuracy: 0.8943 - val_loss: 2.0170 - val_accuracy: 0.6511\n",
      "Epoch 159/1000\n",
      "448/448 [==============================] - 11s 25ms/step - loss: 1.1336 - accuracy: 0.8951 - val_loss: 2.0397 - val_accuracy: 0.6544\n",
      "Epoch 160/1000\n",
      "448/448 [==============================] - 11s 25ms/step - loss: 1.1334 - accuracy: 0.8948 - val_loss: 2.0319 - val_accuracy: 0.6543\n",
      "Epoch 161/1000\n",
      "448/448 [==============================] - 11s 25ms/step - loss: 1.1378 - accuracy: 0.8932 - val_loss: 2.0344 - val_accuracy: 0.6515\n",
      "Epoch 162/1000\n",
      "448/448 [==============================] - 11s 25ms/step - loss: 1.1280 - accuracy: 0.8960 - val_loss: 2.0135 - val_accuracy: 0.6533\n",
      "Epoch 163/1000\n",
      "448/448 [==============================] - 11s 25ms/step - loss: 1.1336 - accuracy: 0.8947 - val_loss: 2.0211 - val_accuracy: 0.6475\n",
      "Epoch 164/1000\n",
      "448/448 [==============================] - 11s 26ms/step - loss: 1.1312 - accuracy: 0.8961 - val_loss: 2.0169 - val_accuracy: 0.6501\n",
      "Epoch 165/1000\n",
      "448/448 [==============================] - 11s 25ms/step - loss: 1.1349 - accuracy: 0.8959 - val_loss: 2.0278 - val_accuracy: 0.6519\n",
      "Epoch 166/1000\n",
      "448/448 [==============================] - 11s 25ms/step - loss: 1.1347 - accuracy: 0.8950 - val_loss: 2.0449 - val_accuracy: 0.6497\n",
      "Epoch 167/1000\n",
      "448/448 [==============================] - 11s 25ms/step - loss: 1.1299 - accuracy: 0.8955 - val_loss: 2.0387 - val_accuracy: 0.6443\n",
      "Epoch 168/1000\n",
      "448/448 [==============================] - 11s 25ms/step - loss: 1.1344 - accuracy: 0.8971 - val_loss: 2.0303 - val_accuracy: 0.6486\n",
      "Epoch 169/1000\n",
      "448/448 [==============================] - 11s 25ms/step - loss: 1.1263 - accuracy: 0.8964 - val_loss: 2.0358 - val_accuracy: 0.6503\n",
      "Epoch 170/1000\n",
      "448/448 [==============================] - 11s 26ms/step - loss: 1.1339 - accuracy: 0.8943 - val_loss: 2.0436 - val_accuracy: 0.6529\n",
      "Epoch 171/1000\n",
      "448/448 [==============================] - 12s 26ms/step - loss: 1.1261 - accuracy: 0.8992 - val_loss: 2.0198 - val_accuracy: 0.6526\n",
      "Epoch 172/1000\n",
      "448/448 [==============================] - 12s 26ms/step - loss: 1.1270 - accuracy: 0.8960 - val_loss: 2.0376 - val_accuracy: 0.6535\n",
      "Epoch 173/1000\n",
      "448/448 [==============================] - 11s 26ms/step - loss: 1.1233 - accuracy: 0.8984 - val_loss: 2.0394 - val_accuracy: 0.6600\n",
      "Epoch 174/1000\n",
      "448/448 [==============================] - 11s 26ms/step - loss: 1.1279 - accuracy: 0.8962 - val_loss: 2.0110 - val_accuracy: 0.6561\n",
      "Epoch 175/1000\n",
      "448/448 [==============================] - ETA: 0s - loss: 1.1155 - accuracy: 0.9013\n",
      "Reached 90% accuracy so cancelling training!\n",
      "448/448 [==============================] - 12s 26ms/step - loss: 1.1155 - accuracy: 0.9013 - val_loss: 2.0477 - val_accuracy: 0.6610\n"
     ]
    }
   ],
   "source": [
    "history = model.fit(\n",
    "        train_generator,\n",
    "        steps_per_epoch = len(train_generator.filenames)  // batch,\n",
    "        epochs = 1000,\n",
    "        callbacks=[callback],\n",
    "        validation_data = validation_generator,\n",
    "        validation_steps = len(train_generator.filenames) // batch/4)"
   ]
  },
  {
   "cell_type": "code",
   "execution_count": 11,
   "metadata": {
    "id": "0RzOzYoxBmsV"
   },
   "outputs": [],
   "source": [
    "model.save(\"model.h5\")"
   ]
  },
  {
   "cell_type": "code",
   "execution_count": 12,
   "metadata": {
    "colab": {
     "base_uri": "https://localhost:8080/",
     "height": 295
    },
    "id": "Zq-wjE0cy-c8",
    "outputId": "ef757489-aa5f-46f2-bf97-f409a9348b40"
   },
   "outputs": [
    {
     "data": {
      "image/png": "[encoded data removed]",
      "text/plain": [
       "<Figure size 432x288 with 1 Axes>"
      ]
     },
     "metadata": {
      "needs_background": "light",
      "tags": []
     },
     "output_type": "display_data"
    }
   ],
   "source": [
    "import matplotlib.pyplot as plt\n",
    "plt.clf()\n",
    "loss = history.history['loss']\n",
    "val_loss = history.history['val_loss']\n",
    "epochs = range(1, len(loss) + 1)\n",
    "plt.plot(epochs, loss, 'g', label='Training loss')\n",
    "plt.plot(epochs, val_loss, 'y', label='Validation loss')\n",
    "plt.title('Training and validation loss')\n",
    "plt.xlabel('Epochs')\n",
    "plt.ylabel('Loss')\n",
    "plt.legend()\n",
    "plt.show()"
   ]
  },
  {
   "cell_type": "code",
   "execution_count": 13,
   "metadata": {
    "colab": {
     "base_uri": "https://localhost:8080/",
     "height": 295
    },
    "id": "rW_SqtBzrIEM",
    "outputId": "a28d81b2-c12b-4ecf-f7f1-471f8984168c"
   },
   "outputs": [
    {
     "data": {
      "image/png": "[encoded data removed]",
      "text/plain": [
       "<Figure size 432x288 with 1 Axes>"
      ]
     },
     "metadata": {
      "needs_background": "light",
      "tags": []
     },
     "output_type": "display_data"
    }
   ],
   "source": [
    "plt.clf()\n",
    "acc = history.history['accuracy']\n",
    "val_acc = history.history['val_accuracy']\n",
    "plt.plot(epochs, acc, 'g', label='Training acc')\n",
    "plt.plot(epochs, val_acc, 'y', label='Validation acc')\n",
    "plt.title('Training and validation accuracy')\n",
    "plt.xlabel('Epochs')\n",
    "plt.ylabel('Accuracy')\n",
    "plt.legend()\n",
    "plt.show()"
   ]
  },
  {
   "cell_type": "markdown",
   "metadata": {},
   "source": [
    "Learning stops around 50ish epoch, It seems we are overfitting train set even though I tried a lot of regulazition it did not help at all."
   ]
  },
  {
   "cell_type": "code",
   "execution_count": 14,
   "metadata": {
    "colab": {
     "base_uri": "https://localhost:8080/",
     "height": 854
    },
    "id": "YWEjBBHWrPg_",
    "outputId": "e4f02ba3-1dcc-4161-ac37-10708ec4bb5b"
   },
   "outputs": [
    {
     "name": "stdout",
     "output_type": "stream",
     "text": [
      "Confusion Matrix\n",
      "[[ 549   46  562 1029  683  685  441]\n",
      " [  56    8   66  106   74   84   42]\n",
      " [ 528   79  586 1042  709  703  450]\n",
      " [1030  134 1050 1782 1204 1193  822]\n",
      " [ 708   67  670 1224  909  839  548]\n",
      " [ 665   63  724 1218  818  822  520]\n",
      " [ 449   40  437  812  562  517  354]]\n",
      "Classification Report\n",
      "              precision    recall  f1-score   support\n",
      "\n",
      "       angry       0.14      0.14      0.14      3995\n",
      "     disgust       0.02      0.02      0.02       436\n",
      "        fear       0.14      0.14      0.14      4097\n",
      "       happy       0.25      0.25      0.25      7215\n",
      "     neutral       0.18      0.18      0.18      4965\n",
      "         sad       0.17      0.17      0.17      4830\n",
      "    surprise       0.11      0.11      0.11      3171\n",
      "\n",
      "    accuracy                           0.17     28709\n",
      "   macro avg       0.14      0.14      0.14     28709\n",
      "weighted avg       0.17      0.17      0.17     28709\n",
      "\n"
     ]
    },
    {
     "data": {
      "image/png": "[encoded data removed]",
      "text/plain": [
       "<Figure size 576x576 with 2 Axes>"
      ]
     },
     "metadata": {
      "needs_background": "light",
      "tags": []
     },
     "output_type": "display_data"
    }
   ],
   "source": [
    "y_pred = model.predict(train_generator)\n",
    "y_pred = np.argmax(y_pred, axis=1)\n",
    "class_labels = train_generator.class_indices\n",
    "class_labels = {v:k for k,v in class_labels.items()}\n",
    "\n",
    "from sklearn.metrics import classification_report, confusion_matrix\n",
    "cm_train = confusion_matrix(train_generator.classes, y_pred)\n",
    "print('Confusion Matrix')\n",
    "print(cm_train)\n",
    "print('Classification Report')\n",
    "target_names = list(class_labels.values())\n",
    "print(classification_report(train_generator.classes, y_pred, target_names=target_names))\n",
    "\n",
    "plt.figure(figsize=(8,8))\n",
    "plt.imshow(cm_train, interpolation='nearest')\n",
    "plt.colorbar()\n",
    "tick_mark = np.arange(len(target_names))\n",
    "_ = plt.xticks(tick_mark, target_names, rotation=90)\n",
    "_ = plt.yticks(tick_mark, target_names)"
   ]
  },
  {
   "cell_type": "code",
   "execution_count": 15,
   "metadata": {
    "colab": {
     "base_uri": "https://localhost:8080/",
     "height": 854
    },
    "id": "I9f45WYOAtg9",
    "outputId": "d5315ab1-c041-4bc4-93bc-f7005a3f3ae2"
   },
   "outputs": [
    {
     "name": "stdout",
     "output_type": "stream",
     "text": [
      "Confusion Matrix\n",
      "[[115   5 105 223 163 223 124]\n",
      " [ 12   0  12  36  17  23  11]\n",
      " [118  16  94 262 202 198 134]\n",
      " [193  17 208 476 291 355 234]\n",
      " [154   8 137 322 222 233 157]\n",
      " [156  19 115 314 223 276 144]\n",
      " [111   8 104 203 137 168 100]]\n",
      "Classification Report\n",
      "              precision    recall  f1-score   support\n",
      "\n",
      "       angry       0.13      0.12      0.13       958\n",
      "     disgust       0.00      0.00      0.00       111\n",
      "        fear       0.12      0.09      0.10      1024\n",
      "       happy       0.26      0.27      0.26      1774\n",
      "     neutral       0.18      0.18      0.18      1233\n",
      "         sad       0.19      0.22      0.20      1247\n",
      "    surprise       0.11      0.12      0.12       831\n",
      "\n",
      "    accuracy                           0.18      7178\n",
      "   macro avg       0.14      0.14      0.14      7178\n",
      "weighted avg       0.17      0.18      0.18      7178\n",
      "\n"
     ]
    },
    {
     "data": {
      "image/png": "[encoded data removed]",
      "text/plain": [
       "<Figure size 576x576 with 2 Axes>"
      ]
     },
     "metadata": {
      "needs_background": "light",
      "tags": []
     },
     "output_type": "display_data"
    }
   ],
   "source": [
    "y_pred = model.predict(validation_generator)\n",
    "y_pred = np.argmax(y_pred, axis=1)\n",
    "class_labels = validation_generator.class_indices\n",
    "class_labels = {v:k for k,v in class_labels.items()}\n",
    "\n",
    "cm_test = confusion_matrix(validation_generator.classes, y_pred)\n",
    "print('Confusion Matrix')\n",
    "print(cm_test)\n",
    "print('Classification Report')\n",
    "target_names = list(class_labels.values())\n",
    "print(classification_report(validation_generator.classes, y_pred, target_names=target_names))\n",
    "\n",
    "plt.figure(figsize=(8,8))\n",
    "plt.imshow(cm_test, interpolation='nearest')\n",
    "plt.colorbar()\n",
    "tick_mark = np.arange(len(target_names))\n",
    "_ = plt.xticks(tick_mark, target_names, rotation=90)\n",
    "_ = plt.yticks(tick_mark, target_names)"
   ]
  },
  {
   "cell_type": "markdown",
   "metadata": {
    "id": "F0jb9SoEB4kW"
   },
   "source": [
    "As we can see from Confussion Matrix we can not detect disgust its because both we have relatively low data according to other classes and I think they seems to look like suprise and shock class."
   ]
  },
  {
   "cell_type": "code",
   "execution_count": null,
   "metadata": {},
   "outputs": [],
   "source": []
  }
 ],
 "metadata": {
  "accelerator": "GPU",
  "colab": {
   "name": "Untitled.ipynb",
   "provenance": []
  },
  "kernelspec": {
   "display_name": "Python 3",
   "language": "python",
   "name": "python3"
  },
  "language_info": {
   "codemirror_mode": {
    "name": "ipython",
    "version": 3
   },
   "file_extension": ".py",
   "mimetype": "text/x-python",
   "name": "python",
   "nbconvert_exporter": "python",
   "pygments_lexer": "ipython3",
   "version": "3.7.9"
  }
 },
 "nbformat": 4,
 "nbformat_minor": 1
}
